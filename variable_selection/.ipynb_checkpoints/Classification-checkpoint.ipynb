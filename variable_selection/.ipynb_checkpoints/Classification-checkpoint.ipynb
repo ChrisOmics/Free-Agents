{
 "cells": [
  {
   "cell_type": "code",
   "execution_count": 3,
   "metadata": {},
   "outputs": [],
   "source": [
    "import pandas as pd\n",
    "import numpy as np\n",
    "import matplotlib.pyplot as plt\n",
    "import seaborn as sns\n",
    "plt.style.use('ggplot')"
   ]
  },
  {
   "cell_type": "code",
   "execution_count": 86,
   "metadata": {
    "scrolled": false
   },
   "outputs": [
    {
     "data": {
      "text/html": [
       "<div>\n",
       "<style>\n",
       "    .dataframe thead tr:only-child th {\n",
       "        text-align: right;\n",
       "    }\n",
       "\n",
       "    .dataframe thead th {\n",
       "        text-align: left;\n",
       "    }\n",
       "\n",
       "    .dataframe tbody tr th {\n",
       "        vertical-align: top;\n",
       "    }\n",
       "</style>\n",
       "<table border=\"1\" class=\"dataframe\">\n",
       "  <thead>\n",
       "    <tr style=\"text-align: right;\">\n",
       "      <th></th>\n",
       "      <th>fix</th>\n",
       "      <th>Player</th>\n",
       "      <th>Pos</th>\n",
       "      <th>G</th>\n",
       "      <th>Tm</th>\n",
       "      <th>Age</th>\n",
       "      <th>GS</th>\n",
       "      <th>FG</th>\n",
       "      <th>FG.</th>\n",
       "      <th>X3P</th>\n",
       "      <th>...</th>\n",
       "      <th>BLK</th>\n",
       "      <th>STL.</th>\n",
       "      <th>BLK.</th>\n",
       "      <th>TOV.</th>\n",
       "      <th>WS</th>\n",
       "      <th>WS.48</th>\n",
       "      <th>DBPM</th>\n",
       "      <th>BPM</th>\n",
       "      <th>VORP</th>\n",
       "      <th>average.salary</th>\n",
       "    </tr>\n",
       "  </thead>\n",
       "  <tbody>\n",
       "    <tr>\n",
       "      <th>1</th>\n",
       "      <td>aaronbrooks</td>\n",
       "      <td>Aaron Brooks\\brookaa01</td>\n",
       "      <td>PG</td>\n",
       "      <td>82</td>\n",
       "      <td>CHI</td>\n",
       "      <td>30</td>\n",
       "      <td>21</td>\n",
       "      <td>4.2</td>\n",
       "      <td>0.421</td>\n",
       "      <td>1.5</td>\n",
       "      <td>...</td>\n",
       "      <td>0.2</td>\n",
       "      <td>1.5</td>\n",
       "      <td>0.6</td>\n",
       "      <td>14.9</td>\n",
       "      <td>3.3</td>\n",
       "      <td>0.083</td>\n",
       "      <td>-2.4</td>\n",
       "      <td>-1.4</td>\n",
       "      <td>0.3</td>\n",
       "      <td>2250000</td>\n",
       "    </tr>\n",
       "    <tr>\n",
       "      <th>2</th>\n",
       "      <td>aarongordon</td>\n",
       "      <td>Aaron Gordon\\gordoaa01</td>\n",
       "      <td>PF</td>\n",
       "      <td>47</td>\n",
       "      <td>ORL</td>\n",
       "      <td>19</td>\n",
       "      <td>8</td>\n",
       "      <td>2</td>\n",
       "      <td>0.447</td>\n",
       "      <td>0.3</td>\n",
       "      <td>...</td>\n",
       "      <td>0.5</td>\n",
       "      <td>1.3</td>\n",
       "      <td>2.2</td>\n",
       "      <td>13.9</td>\n",
       "      <td>1</td>\n",
       "      <td>0.06</td>\n",
       "      <td>0</td>\n",
       "      <td>-2.8</td>\n",
       "      <td>-0.2</td>\n",
       "      <td>4504865</td>\n",
       "    </tr>\n",
       "    <tr>\n",
       "      <th>3</th>\n",
       "      <td>adreianpayne</td>\n",
       "      <td>Adreian Payne\\paynead01</td>\n",
       "      <td>PF</td>\n",
       "      <td>32</td>\n",
       "      <td>TOT</td>\n",
       "      <td>23</td>\n",
       "      <td>22</td>\n",
       "      <td>2.8</td>\n",
       "      <td>0.414</td>\n",
       "      <td>0</td>\n",
       "      <td>...</td>\n",
       "      <td>0.3</td>\n",
       "      <td>1.3</td>\n",
       "      <td>1</td>\n",
       "      <td>15.5</td>\n",
       "      <td>-0.5</td>\n",
       "      <td>-0.033</td>\n",
       "      <td>-1.3</td>\n",
       "      <td>-5.9</td>\n",
       "      <td>-0.7</td>\n",
       "      <td>1938800</td>\n",
       "    </tr>\n",
       "    <tr>\n",
       "      <th>4</th>\n",
       "      <td>alananderson</td>\n",
       "      <td>Alan Anderson\\anderal01</td>\n",
       "      <td>SG</td>\n",
       "      <td>74</td>\n",
       "      <td>BRK</td>\n",
       "      <td>32</td>\n",
       "      <td>19</td>\n",
       "      <td>2.6</td>\n",
       "      <td>0.443</td>\n",
       "      <td>1</td>\n",
       "      <td>...</td>\n",
       "      <td>0.1</td>\n",
       "      <td>1.7</td>\n",
       "      <td>0.2</td>\n",
       "      <td>11</td>\n",
       "      <td>2.7</td>\n",
       "      <td>0.075</td>\n",
       "      <td>-0.5</td>\n",
       "      <td>-0.5</td>\n",
       "      <td>0.6</td>\n",
       "      <td>4000000</td>\n",
       "    </tr>\n",
       "    <tr>\n",
       "      <th>5</th>\n",
       "      <td>alecburks</td>\n",
       "      <td>Alec Burks\\burksal01</td>\n",
       "      <td>SG</td>\n",
       "      <td>27</td>\n",
       "      <td>UTA</td>\n",
       "      <td>23</td>\n",
       "      <td>27</td>\n",
       "      <td>4.5</td>\n",
       "      <td>0.403</td>\n",
       "      <td>1</td>\n",
       "      <td>...</td>\n",
       "      <td>0.2</td>\n",
       "      <td>1</td>\n",
       "      <td>0.4</td>\n",
       "      <td>12.7</td>\n",
       "      <td>1.7</td>\n",
       "      <td>0.089</td>\n",
       "      <td>-1.1</td>\n",
       "      <td>-1.6</td>\n",
       "      <td>0.1</td>\n",
       "      <td>10500000</td>\n",
       "    </tr>\n",
       "  </tbody>\n",
       "</table>\n",
       "<p>5 rows × 27 columns</p>\n",
       "</div>"
      ],
      "text/plain": [
       "0           fix                   Player Pos   G   Tm Age  GS   FG    FG.  \\\n",
       "1   aaronbrooks   Aaron Brooks\\brookaa01  PG  82  CHI  30  21  4.2  0.421   \n",
       "2   aarongordon   Aaron Gordon\\gordoaa01  PF  47  ORL  19   8    2  0.447   \n",
       "3  adreianpayne  Adreian Payne\\paynead01  PF  32  TOT  23  22  2.8  0.414   \n",
       "4  alananderson  Alan Anderson\\anderal01  SG  74  BRK  32  19  2.6  0.443   \n",
       "5     alecburks     Alec Burks\\burksal01  SG  27  UTA  23  27  4.5  0.403   \n",
       "\n",
       "0  X3P      ...        BLK STL. BLK.  TOV.    WS   WS.48  DBPM   BPM  VORP  \\\n",
       "1  1.5      ...        0.2  1.5  0.6  14.9   3.3   0.083  -2.4  -1.4   0.3   \n",
       "2  0.3      ...        0.5  1.3  2.2  13.9     1    0.06     0  -2.8  -0.2   \n",
       "3    0      ...        0.3  1.3    1  15.5  -0.5  -0.033  -1.3  -5.9  -0.7   \n",
       "4    1      ...        0.1  1.7  0.2    11   2.7   0.075  -0.5  -0.5   0.6   \n",
       "5    1      ...        0.2    1  0.4  12.7   1.7   0.089  -1.1  -1.6   0.1   \n",
       "\n",
       "0 average.salary  \n",
       "1        2250000  \n",
       "2        4504865  \n",
       "3        1938800  \n",
       "4        4000000  \n",
       "5       10500000  \n",
       "\n",
       "[5 rows x 27 columns]"
      ]
     },
     "execution_count": 86,
     "metadata": {},
     "output_type": "execute_result"
    }
   ],
   "source": [
    "df = pd.read_csv(\"mega.csv\", header = None)\n",
    "df_red = df[[1,2,3,4,5,6,7,9,11,12,15,16,18,19,20,22,26,27,40,41,42,46,47,49,50,51,52]]\n",
    "df_red = df_red.T.reset_index(drop = True).T # reset column indeices\n",
    "new_header = df_red.iloc[0]\n",
    "df_red = df_red[1:]\n",
    "df_red.columns = new_header # fix header\n",
    "df_red['average.salary'] = pd.to_numeric(df_red['average.salary'], errors='coerce').fillna(0).astype(np.int64)\n",
    "df_red.head()"
   ]
  },
  {
   "cell_type": "markdown",
   "metadata": {},
   "source": [
    "# 2015 Salary Cap: 70,000,000\n",
    "Now organize players based on % of salary cap\n",
    "1. < 2% (min)\n",
    "2. 2-4% (Vet Min)\n",
    "3. 4-7% (MLE, Bi-annual)\n",
    "4. 7-10%\n",
    "5. 10-13%\n",
    "6. 13-16%\n",
    "7. 16-19%\n",
    "8. /> 19% (Maxes)"
   ]
  },
  {
   "cell_type": "code",
   "execution_count": 50,
   "metadata": {},
   "outputs": [],
   "source": [
    "def salGroup(x):\n",
    "    yearCap = 70000000\n",
    "    if x < 0.02*yearCap:\n",
    "        return 1\n",
    "    elif x >= 0.02*yearCap and x < 0.04*yearCap:\n",
    "        return 2\n",
    "    elif x >= 0.04*yearCap and x < 0.07*yearCap:\n",
    "        return 3\n",
    "    elif x >= 0.07*yearCap and x < 0.10*yearCap:\n",
    "        return 4\n",
    "    elif x >= 0.10*yearCap and x < 0.13*yearCap:\n",
    "        return 5\n",
    "    elif x >= 0.13*yearCap and x < 0.16*yearCap:\n",
    "        return 6\n",
    "    elif x >= 0.16*yearCap and x < 0.19*yearCap:\n",
    "        return 7\n",
    "    else:\n",
    "        return 8"
   ]
  },
  {
   "cell_type": "code",
   "execution_count": 155,
   "metadata": {},
   "outputs": [
    {
     "data": {
      "image/png": "[encoded data removed]",
      "text/plain": [
       "<matplotlib.figure.Figure at 0x7f70ba94f390>"
      ]
     },
     "metadata": {},
     "output_type": "display_data"
    }
   ],
   "source": [
    "df_red[\"Cluster\"] = df_red['average.salary'].apply(salGroup)\n",
    "df_red['Cluster'].plot.hist(8,alpha=0.5)\n",
    "plt.show()"
   ]
  },
  {
   "cell_type": "code",
   "execution_count": 94,
   "metadata": {},
   "outputs": [],
   "source": [
    "# create and encode labels\n",
    "df_feature_selected = df_red.drop(['Player','Pos','G','Tm','FG.','X3P','X2P','X2PA'], axis = 1)\n",
    "labels = np.asarray(df_red.Cluster)\n",
    "df_features = df_feature_selected.to_dict(orient='records')"
   ]
  },
  {
   "cell_type": "code",
   "execution_count": 95,
   "metadata": {
    "collapsed": true
   },
   "outputs": [],
   "source": [
    "from sklearn.feature_extraction import DictVectorizer\n",
    "vec = DictVectorizer()\n",
    "features = vec.fit_transform(df_features).toarray()"
   ]
  },
  {
   "cell_type": "code",
   "execution_count": 105,
   "metadata": {
    "collapsed": true
   },
   "outputs": [],
   "source": [
    "##### split up in test and training data ####\n",
    "from sklearn.model_selection import train_test_split\n",
    "\n",
    "features_train, features_test, labels_train, labels_test = train_test_split(\n",
    "\tfeatures, labels, \n",
    "\ttest_size=0.33, random_state=42)"
   ]
  },
  {
   "cell_type": "code",
   "execution_count": 137,
   "metadata": {
    "collapsed": true
   },
   "outputs": [],
   "source": [
    "#### Fit to random forests ####\n",
    "\n",
    "# Random Forests Classifier\n",
    "from sklearn.ensemble import RandomForestClassifier\n",
    "clf = RandomForestClassifier(\n",
    "\tmin_samples_split=4,\n",
    "\tcriterion=\"entropy\"\n",
    "\t)"
   ]
  },
  {
   "cell_type": "code",
   "execution_count": 138,
   "metadata": {
    "collapsed": true
   },
   "outputs": [],
   "source": [
    "#from sklearn.svm import SVC\n",
    "#clf = SVC()"
   ]
  },
  {
   "cell_type": "code",
   "execution_count": 139,
   "metadata": {},
   "outputs": [
    {
     "name": "stdout",
     "output_type": "stream",
     "text": [
      "Train Accuracy: 0.982142857143\n",
      "Test Accuracy: 0.753623188406\n"
     ]
    }
   ],
   "source": [
    "clf.fit(features_train, labels_train)\n",
    "\n",
    "# find the accuracy of the model\n",
    "acc_test = clf.score(features_test, labels_test)\n",
    "acc_train = clf.score(features_train, labels_train)\n",
    "print (\"Train Accuracy:\", acc_train)\n",
    "print (\"Test Accuracy:\", acc_test)"
   ]
  },
  {
   "cell_type": "code",
   "execution_count": 135,
   "metadata": {},
   "outputs": [
    {
     "name": "stdout",
     "output_type": "stream",
     "text": [
      "Precision: 0.733598842113\n",
      "Recall: 0.717391304348\n"
     ]
    },
    {
     "name": "stderr",
     "output_type": "stream",
     "text": [
      "/home/konner/anaconda3/lib/python3.6/site-packages/sklearn/metrics/classification.py:1135: UndefinedMetricWarning: Precision is ill-defined and being set to 0.0 in labels with no predicted samples.\n",
      "  'precision', 'predicted', average, warn_for)\n"
     ]
    }
   ],
   "source": [
    "#### Figure out what kind of mistakes it makes ####\n",
    "from sklearn.metrics import recall_score, precision_score\n",
    "\n",
    "precision = precision_score(labels_test, pred, average=\"weighted\")\n",
    "recall = recall_score(labels_test, pred, average=\"weighted\")\n",
    "\n",
    "print (\"Precision:\", precision)\n",
    "print (\"Recall:\", recall)"
   ]
  },
  {
   "cell_type": "code",
   "execution_count": 156,
   "metadata": {},
   "outputs": [
    {
     "data": {
      "image/png": "[encoded data removed]",
      "text/plain": [
       "<matplotlib.figure.Figure at 0x7f70ba986550>"
      ]
     },
     "metadata": {},
     "output_type": "display_data"
    }
   ],
   "source": [
    "plt.hist(labels_test,8,alpha=0.5)\n",
    "plt.show()"
   ]
  },
  {
   "cell_type": "code",
   "execution_count": null,
   "metadata": {
    "collapsed": true
   },
   "outputs": [],
   "source": []
  }
 ],
 "metadata": {
  "kernelspec": {
   "display_name": "Python 3",
   "language": "python",
   "name": "python3"
  },
  "language_info": {
   "codemirror_mode": {
    "name": "ipython",
    "version": 3
   },
   "file_extension": ".py",
   "mimetype": "text/x-python",
   "name": "python",
   "nbconvert_exporter": "python",
   "pygments_lexer": "ipython3",
   "version": "3.6.3"
  }
 },
 "nbformat": 4,
 "nbformat_minor": 2
}
